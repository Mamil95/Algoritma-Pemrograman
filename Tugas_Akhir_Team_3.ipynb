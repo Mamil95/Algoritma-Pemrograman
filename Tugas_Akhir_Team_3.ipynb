{
  "nbformat": 4,
  "nbformat_minor": 0,
  "metadata": {
    "colab": {
      "provenance": [],
      "authorship_tag": "ABX9TyPubQlue5Zp3q4ARfQUTBUD",
      "include_colab_link": true
    },
    "kernelspec": {
      "name": "python3",
      "display_name": "Python 3"
    },
    "language_info": {
      "name": "python"
    }
  },
  "cells": [
    {
      "cell_type": "markdown",
      "metadata": {
        "id": "view-in-github",
        "colab_type": "text"
      },
      "source": [
        "<a href=\"https://colab.research.google.com/github/Mamil95/Algoritma-Pemrograman/blob/main/Tugas_Akhir_Team_3.ipynb\" target=\"_parent\"><img src=\"https://colab.research.google.com/assets/colab-badge.svg\" alt=\"Open In Colab\"/></a>"
      ]
    },
    {
      "cell_type": "code",
      "execution_count": null,
      "metadata": {
        "id": "yWQkZ7vzi7lw",
        "outputId": "08f2c502-bdc7-4859-cabd-63ef4d42b7ae",
        "colab": {
          "base_uri": "https://localhost:8080/"
        }
      },
      "outputs": [
        {
          "name": "stdout",
          "output_type": "stream",
          "text": [
            "\n",
            "Menu:\n",
            "1. Tambah buku\n",
            "2. Tampilkan semua buku\n",
            "3. Cari buku\n",
            "4. Keluar\n",
            "Pilih menu: 2\n",
            "Tidak ada buku dalam daftar.\n",
            "\n",
            "Menu:\n",
            "1. Tambah buku\n",
            "2. Tampilkan semua buku\n",
            "3. Cari buku\n",
            "4. Keluar\n",
            "Pilih menu: 1\n",
            "Masukkan judul buku: nun\n",
            "Masukkan pengarang: nun\n",
            "Masukkan tahun terbit: 1990\n",
            "Masukkan jumlah stok: 20\n",
            "Buku berhasil ditambahkan.\n",
            "\n",
            "Menu:\n",
            "1. Tambah buku\n",
            "2. Tampilkan semua buku\n",
            "3. Cari buku\n",
            "4. Keluar\n",
            "Pilih menu: 3\n",
            "Masukkan judul buku yang ingin dicari: nun\n",
            "Buku ditemukan:\n",
            "Judul: nun\n",
            "Pengarang: nun\n",
            "Tahun Terbit: 1990\n",
            "Stok: 20\n",
            "\n",
            "Menu:\n",
            "1. Tambah buku\n",
            "2. Tampilkan semua buku\n",
            "3. Cari buku\n",
            "4. Keluar\n",
            "Pilih menu: 4\n"
          ]
        }
      ],
      "source": [
        "class Buku:\n",
        "    def __init__(self, judul, pengarang, tahun_terbit, jumlah_stok):\n",
        "        self.judul = judul\n",
        "        self.pengarang = pengarang\n",
        "        self.tahun_terbit = tahun_terbit\n",
        "        self.jumlah_stok = jumlah_stok\n",
        "\n",
        "    def pinjam(self):\n",
        "        if self.jumlah_stok > 0:\n",
        "            self.jumlah_stok -= 1\n",
        "            print(\"Buku berhasil dipinjam.\")\n",
        "        else:\n",
        "            print(\"Stok buku habis.\")\n",
        "\n",
        "    def kembalikan(self):\n",
        "        self.jumlah_stok += 1\n",
        "        print(\"Buku berhasil dikembalikan.\")\n",
        "\n",
        "daftar_buku = []\n",
        "id_buku = 1  # Untuk memberikan ID unik pada setiap buku\n",
        "\n",
        "def tambah_buku():\n",
        "    judul = input(\"Masukkan judul buku: \")\n",
        "    pengarang = input(\"Masukkan pengarang: \")\n",
        "    tahun_terbit = int(input(\"Masukkan tahun terbit: \"))\n",
        "    jumlah_stok = int(input(\"Masukkan jumlah stok: \"))\n",
        "    buku_baru = Buku(judul, pengarang, tahun_terbit, jumlah_stok)\n",
        "    daftar_buku.append(buku_baru)\n",
        "    print(\"Buku berhasil ditambahkan.\")\n",
        "\n",
        "def tampilkan_semua_buku():\n",
        "    if not daftar_buku:\n",
        "        print(\"Tidak ada buku dalam daftar.\")\n",
        "    else:\n",
        "        for buku in daftar_buku:\n",
        "            print(f\"ID: {id_buku}, Judul: {buku.judul}, Pengarang: {buku.pengarang}, Tahun Terbit: {buku.tahun_terbit}, Stok: {buku.jumlah_stok}\")\n",
        "            id_buku += 1\n",
        "\n",
        "def cari_buku(judul):\n",
        "    for buku in daftar_buku:\n",
        "        if buku.judul.lower() == judul.lower():\n",
        "            print(f\"Buku ditemukan:\\nJudul: {buku.judul}\\nPengarang: {buku.pengarang}\\nTahun Terbit: {buku.tahun_terbit}\\nStok: {buku.jumlah_stok}\")\n",
        "            return\n",
        "    print(\"Buku tidak ditemukan.\")\n",
        "\n",
        "while True:\n",
        "    print(\"\\nMenu:\")\n",
        "    print(\"1. Tambah buku\")\n",
        "    print(\"2. Tampilkan semua buku\")\n",
        "    print(\"3. Cari buku\")\n",
        "    print(\"4. Keluar\")\n",
        "    pilihan = input(\"Pilih menu: \")\n",
        "\n",
        "    if pilihan == '1':\n",
        "        tambah_buku()\n",
        "    elif pilihan == '2':\n",
        "        tampilkan_semua_buku()\n",
        "    elif pilihan == '3':\n",
        "        judul = input(\"Masukkan judul buku yang ingin dicari: \")\n",
        "        cari_buku(judul)\n",
        "    elif pilihan == '4':\n",
        "        break\n",
        "    else:\n",
        "        print(\"Pilihan tidak valid.\")"
      ]
    },
    {
      "cell_type": "code",
      "source": [],
      "metadata": {
        "id": "TnM7l5ajnmaK"
      },
      "execution_count": null,
      "outputs": []
    }
  ]
}